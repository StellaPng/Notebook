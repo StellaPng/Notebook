{
  "metadata": {
    "kernelspec": {
      "name": "python",
      "display_name": "Python (Pyodide)",
      "language": "python"
    },
    "language_info": {
      "codemirror_mode": {
        "name": "python",
        "version": 3
      },
      "file_extension": ".py",
      "mimetype": "text/x-python",
      "name": "python",
      "nbconvert_exporter": "python",
      "pygments_lexer": "ipython3",
      "version": "3.8"
    }
  },
  "nbformat_minor": 5,
  "nbformat": 4,
  "cells": [
    {
      "id": "fb36706c-ccb5-484d-a502-a750338b1c4f",
      "cell_type": "markdown",
      "source": "#### String Syntax",
      "metadata": {}
    },
    {
      "id": "9fd45138-81ba-4319-b632-1274f754ae48",
      "cell_type": "markdown",
      "source": "The table below summarizes some important uses of the backslash character.",
      "metadata": {
        "tags": [],
        "editable": true,
        "slideshow": {
          "slide_type": ""
        }
      }
    },
    {
      "id": "7f1c6a6f-8907-4a6c-a119-b385cfcd2474",
      "cell_type": "markdown",
      "source": "![Description](https://raw.githubusercontent.com/StellaPng/Notebook/refs/heads/main/images/backslash.jpg)\n<img src=\"https://raw.githubusercontent.com/StellaPng/Notebook/refs/heads/main/images/backslash.jpg\" width=\"50%\"/>\n",
      "metadata": {}
    },
    {
      "id": "a37fb8e5-a172-4839-8fc9-ec6365d9ee37",
      "cell_type": "code",
      "source": "",
      "metadata": {
        "trusted": true
      },
      "outputs": [],
      "execution_count": null
    }
  ]
}